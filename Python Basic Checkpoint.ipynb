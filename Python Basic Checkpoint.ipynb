{
 "cells": [
  {
   "cell_type": "code",
   "execution_count": 15,
   "id": "d6876a91-91fa-4c54-b57f-afd96f32117f",
   "metadata": {},
   "outputs": [
    {
     "name": "stdout",
     "output_type": "stream",
     "text": [
      "Welcome to the Guess the Number game!\n",
      "I'm thinking of a number between 1 and 100. Can you guess what it is?\n"
     ]
    },
    {
     "name": "stdin",
     "output_type": "stream",
     "text": [
      "Enter your guess:  80\n"
     ]
    },
    {
     "name": "stdout",
     "output_type": "stream",
     "text": [
      "Your guess is too low. Guess again.\n"
     ]
    },
    {
     "name": "stdin",
     "output_type": "stream",
     "text": [
      "Enter your guess:  90\n"
     ]
    },
    {
     "name": "stdout",
     "output_type": "stream",
     "text": [
      "Your guess is too high. Guess again.\n"
     ]
    },
    {
     "name": "stdin",
     "output_type": "stream",
     "text": [
      "Enter your guess:  87\n"
     ]
    },
    {
     "name": "stdout",
     "output_type": "stream",
     "text": [
      "Your guess is too high. Guess again.\n"
     ]
    },
    {
     "name": "stdin",
     "output_type": "stream",
     "text": [
      "Enter your guess:  85\n"
     ]
    },
    {
     "name": "stdout",
     "output_type": "stream",
     "text": [
      "Your guess is too high. Guess again.\n"
     ]
    },
    {
     "name": "stdin",
     "output_type": "stream",
     "text": [
      "Enter your guess:  82\n"
     ]
    },
    {
     "name": "stdout",
     "output_type": "stream",
     "text": [
      "Congratulations! You guessed the number correctly!\n"
     ]
    }
   ],
   "source": [
    "import random\n",
    "\n",
    "print(\"Welcome to the Guess the Number game!\")\n",
    "print(\"I'm thinking of a number between 1 and 100. Can you guess what it is?\")\n",
    "\n",
    "# Generate a random number between 1 and 100\n",
    "secret_number = random.randint(1, 100)\n",
    "\n",
    "# Variable to store the user's guess\n",
    "guess = None\n",
    "\n",
    "# Continue looping until the guess is correct\n",
    "while guess != secret_number:\n",
    "    # Prompt the user for a guess\n",
    "    guess = input(\"Enter your guess: \")\n",
    "    \n",
    "    # Convert the guess to an integer\n",
    "    try:\n",
    "        guess = int(guess)\n",
    "    except ValueError:\n",
    "        print(\"Please enter a valid number between 1 and 100.\")\n",
    "        continue\n",
    "\n",
    "    # Check if the guess is too high, too low, or correct\n",
    "    if guess < secret_number:\n",
    "        print(\"Your guess is too low. Guess again.\")\n",
    "    elif guess > secret_number:\n",
    "        print(\"Your guess is too high. Guess again.\")\n",
    "    else:\n",
    "        print(\"Congratulations! You guessed the number correctly!\")"
   ]
  },
  {
   "cell_type": "code",
   "execution_count": null,
   "id": "277cfb2c-204b-492a-bd6f-56808b9e9a48",
   "metadata": {},
   "outputs": [],
   "source": []
  }
 ],
 "metadata": {
  "kernelspec": {
   "display_name": "Python [conda env:base] *",
   "language": "python",
   "name": "conda-base-py"
  },
  "language_info": {
   "codemirror_mode": {
    "name": "ipython",
    "version": 3
   },
   "file_extension": ".py",
   "mimetype": "text/x-python",
   "name": "python",
   "nbconvert_exporter": "python",
   "pygments_lexer": "ipython3",
   "version": "3.12.7"
  }
 },
 "nbformat": 4,
 "nbformat_minor": 5
}
