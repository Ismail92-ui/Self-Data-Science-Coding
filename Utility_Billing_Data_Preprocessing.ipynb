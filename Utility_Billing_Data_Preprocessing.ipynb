{
 "cells": [
  {
   "cell_type": "code",
   "execution_count": 24,
   "id": "4ff77502-9f1b-43ee-98bc-b12c88092ce5",
   "metadata": {},
   "outputs": [],
   "source": [
    "import pandas as pd\n",
    "from sklearn.preprocessing import LabelEncoder"
   ]
  },
  {
   "cell_type": "code",
   "execution_count": 25,
   "id": "442bfc37-6818-4a2b-b2fa-2264d978792a",
   "metadata": {},
   "outputs": [
    {
     "name": "stderr",
     "output_type": "stream",
     "text": [
      "C:\\Users\\user\\AppData\\Local\\Temp\\ipykernel_22212\\3209124059.py:1: DtypeWarning: Columns (4) have mixed types. Specify dtype option on import or set low_memory=False.\n",
      "  df = pd.read_csv(r\"C:\\Users\\user\\OneDrive\\Desktop\\Gomycode\\STEG_BILLING_HISTORY.csv\")\n"
     ]
    }
   ],
   "source": [
    "df = pd.read_csv(r\"C:\\Users\\user\\OneDrive\\Desktop\\Gomycode\\STEG_BILLING_HISTORY.csv\")"
   ]
  },
  {
   "cell_type": "code",
   "execution_count": 26,
   "id": "b6c04624-4975-4291-bd70-be1cd5d31f7b",
   "metadata": {},
   "outputs": [
    {
     "name": "stdout",
     "output_type": "stream",
     "text": [
      " First 3 rows:\n",
      "        client_id invoice_date  tarif_type  counter_number counter_statue  \\\n",
      "0  train_Client_0   2014-03-24          11       1335667.0              0   \n",
      "1  train_Client_0   2013-03-29          11       1335667.0              0   \n",
      "2  train_Client_0   2015-03-23          11       1335667.0              0   \n",
      "\n",
      "   counter_code  reading_remarque  counter_coefficient  consommation_level_1  \\\n",
      "0           203               8.0                    1                    82   \n",
      "1           203               6.0                    1                  1200   \n",
      "2           203               8.0                    1                   123   \n",
      "\n",
      "   consommation_level_2  consommation_level_3  consommation_level_4  \\\n",
      "0                     0                     0                     0   \n",
      "1                   184                     0                     0   \n",
      "2                     0                     0                     0   \n",
      "\n",
      "   old_index  new_index  months_number counter_type  \n",
      "0      14302      14384              4         ELEC  \n",
      "1      12294      13678              4         ELEC  \n",
      "2      14624      14747              4         ELEC  \n"
     ]
    }
   ],
   "source": [
    "client_0_bills = df.head(3)\n",
    "print(\" First 3 rows:\")\n",
    "print(client_0_bills)"
   ]
  },
  {
   "cell_type": "code",
   "execution_count": 27,
   "id": "dc736ce9-b7f0-4c23-acdf-ec3c0e8837cb",
   "metadata": {},
   "outputs": [
    {
     "name": "stdout",
     "output_type": "stream",
     "text": [
      "\n",
      " Type of client_0_bills: <class 'pandas.core.frame.DataFrame'>\n"
     ]
    }
   ],
   "source": [
    "print(\"\\n Type of client_0_bills:\", type(client_0_bills))"
   ]
  },
  {
   "cell_type": "code",
   "execution_count": 28,
   "id": "52e3c9ed-670c-4340-aa88-beba19cf6fe2",
   "metadata": {},
   "outputs": [
    {
     "name": "stdout",
     "output_type": "stream",
     "text": [
      "\n",
      " Dataset Info:\n",
      "<class 'pandas.core.frame.DataFrame'>\n",
      "RangeIndex: 4476749 entries, 0 to 4476748\n",
      "Data columns (total 16 columns):\n",
      " #   Column                Dtype  \n",
      "---  ------                -----  \n",
      " 0   client_id             object \n",
      " 1   invoice_date          object \n",
      " 2   tarif_type            int64  \n",
      " 3   counter_number        float64\n",
      " 4   counter_statue        object \n",
      " 5   counter_code          int64  \n",
      " 6   reading_remarque      float64\n",
      " 7   counter_coefficient   int64  \n",
      " 8   consommation_level_1  int64  \n",
      " 9   consommation_level_2  int64  \n",
      " 10  consommation_level_3  int64  \n",
      " 11  consommation_level_4  int64  \n",
      " 12  old_index             int64  \n",
      " 13  new_index             int64  \n",
      " 14  months_number         int64  \n",
      " 15  counter_type          object \n",
      "dtypes: float64(2), int64(10), object(4)\n",
      "memory usage: 546.5+ MB\n"
     ]
    }
   ],
   "source": [
    "print(\"\\n Dataset Info:\")\n",
    "df.info()"
   ]
  },
  {
   "cell_type": "code",
   "execution_count": 29,
   "id": "ee9b234f-e682-4b2c-9aa0-ec6fdacaae13",
   "metadata": {},
   "outputs": [
    {
     "name": "stdout",
     "output_type": "stream",
     "text": [
      "\n",
      " Number of Rows: 4476749, Columns: 16\n"
     ]
    }
   ],
   "source": [
    "num_rows, num_cols = df.shape\n",
    "print(f\"\\n Number of Rows: {num_rows}, Columns: {num_cols}\")"
   ]
  },
  {
   "cell_type": "code",
   "execution_count": 30,
   "id": "7713ffdf-05de-45c3-be88-5ec0349c875b",
   "metadata": {},
   "outputs": [
    {
     "name": "stdout",
     "output_type": "stream",
     "text": [
      "\n",
      " Categorical Features: ['client_id', 'invoice_date', 'counter_statue', 'counter_type']\n",
      " Number of Categorical Features: 4\n"
     ]
    }
   ],
   "source": [
    "cat_features = df.select_dtypes(include='object').columns\n",
    "print(\"\\n Categorical Features:\", list(cat_features))\n",
    "print(\" Number of Categorical Features:\", len(cat_features))"
   ]
  },
  {
   "cell_type": "code",
   "execution_count": 31,
   "id": "dfd3b1ea-97a6-42ee-a6ba-e1a4cf8b7c22",
   "metadata": {},
   "outputs": [
    {
     "name": "stdout",
     "output_type": "stream",
     "text": [
      "\n",
      " Memory Usage: 1327.65 MB\n"
     ]
    }
   ],
   "source": [
    "memory = df.memory_usage(deep=True).sum() / 1024**2\n",
    "print(f\"\\n Memory Usage: {memory:.2f} MB\")"
   ]
  },
  {
   "cell_type": "code",
   "execution_count": 32,
   "id": "31ec8ec3-db30-4621-8477-e6aa7497aee9",
   "metadata": {},
   "outputs": [
    {
     "name": "stdout",
     "output_type": "stream",
     "text": [
      "\n",
      " Missing Values per Column:\n",
      "client_id                  0\n",
      "invoice_date               0\n",
      "tarif_type                 0\n",
      "counter_number            48\n",
      "counter_statue             0\n",
      "counter_code               0\n",
      "reading_remarque        4531\n",
      "counter_coefficient        0\n",
      "consommation_level_1       0\n",
      "consommation_level_2       0\n",
      "consommation_level_3       0\n",
      "consommation_level_4       0\n",
      "old_index                  0\n",
      "new_index                  0\n",
      "months_number              0\n",
      "counter_type               0\n",
      "dtype: int64\n"
     ]
    }
   ],
   "source": [
    "print(\"\\n Missing Values per Column:\")\n",
    "print(df.isnull().sum())"
   ]
  },
  {
   "cell_type": "code",
   "execution_count": 33,
   "id": "0781dd3e-dc0d-48c0-a1c3-673d58e15dbd",
   "metadata": {},
   "outputs": [
    {
     "name": "stdout",
     "output_type": "stream",
     "text": [
      "\n",
      " Missing values handled.\n"
     ]
    }
   ],
   "source": [
    "for col in df.columns:\n",
    "    if df[col].isnull().sum() > 0:\n",
    "        if df[col].dtype == 'object':\n",
    "            df[col] = df[col].fillna(df[col].mode()[0])\n",
    "        else:\n",
    "            df[col] = df[col].fillna(df[col].median())\n",
    "\n",
    "print(\"\\n Missing values handled.\")"
   ]
  },
  {
   "cell_type": "code",
   "execution_count": 34,
   "id": "abccf2b3-f1c9-429e-86ea-8cb9f7cb4b69",
   "metadata": {},
   "outputs": [
    {
     "name": "stdout",
     "output_type": "stream",
     "text": [
      "\n",
      " Descriptive Stats (Numeric Features):\n",
      "         tarif_type  counter_number  counter_code  reading_remarque  \\\n",
      "count  4.476749e+06    4.476749e+06  4.476749e+06      4.476749e+06   \n",
      "mean   2.012804e+01    1.230582e+11  1.724884e+02      7.322400e+00   \n",
      "std    1.347256e+01    1.657267e+12  1.338871e+02      1.571212e+00   \n",
      "min    8.000000e+00    0.000000e+00  0.000000e+00      5.000000e+00   \n",
      "25%    1.100000e+01    1.211080e+05  5.000000e+00      6.000000e+00   \n",
      "50%    1.100000e+01    4.945610e+05  2.030000e+02      8.000000e+00   \n",
      "75%    4.000000e+01    1.115161e+06  2.070000e+02      9.000000e+00   \n",
      "max    4.500000e+01    2.798115e+13  6.000000e+02      4.130000e+02   \n",
      "\n",
      "       counter_coefficient  consommation_level_1  consommation_level_2  \\\n",
      "count         4.476749e+06          4.476749e+06          4.476749e+06   \n",
      "mean          1.003040e+00          4.109795e+02          1.093225e+02   \n",
      "std           3.083466e-01          7.573080e+02          1.220123e+03   \n",
      "min           0.000000e+00          0.000000e+00          0.000000e+00   \n",
      "25%           1.000000e+00          7.900000e+01          0.000000e+00   \n",
      "50%           1.000000e+00          2.740000e+02          0.000000e+00   \n",
      "75%           1.000000e+00          6.000000e+02          0.000000e+00   \n",
      "max           5.000000e+01          9.999100e+05          9.990730e+05   \n",
      "\n",
      "       consommation_level_3  consommation_level_4     old_index     new_index  \\\n",
      "count          4.476749e+06          4.476749e+06  4.476749e+06  4.476749e+06   \n",
      "mean           2.030620e+01          5.292588e+01  1.776700e+04  1.834970e+04   \n",
      "std            1.574239e+02          8.754725e+02  4.036693e+04  4.095321e+04   \n",
      "min            0.000000e+00          0.000000e+00  0.000000e+00  0.000000e+00   \n",
      "25%            0.000000e+00          0.000000e+00  1.791000e+03  2.056000e+03   \n",
      "50%            0.000000e+00          0.000000e+00  7.690000e+03  8.192000e+03   \n",
      "75%            0.000000e+00          0.000000e+00  2.166000e+04  2.234300e+04   \n",
      "max            6.449200e+04          5.479460e+05  2.800280e+06  2.870972e+06   \n",
      "\n",
      "       months_number  \n",
      "count   4.476749e+06  \n",
      "mean    4.483095e+01  \n",
      "std     3.128335e+03  \n",
      "min     0.000000e+00  \n",
      "25%     4.000000e+00  \n",
      "50%     4.000000e+00  \n",
      "75%     4.000000e+00  \n",
      "max     6.366240e+05  \n"
     ]
    }
   ],
   "source": [
    "print(\"\\n Descriptive Stats (Numeric Features):\")\n",
    "print(df.describe())"
   ]
  },
  {
   "cell_type": "code",
   "execution_count": 39,
   "id": "3fb52ba2-785f-454f-b1ce-5a2809b5dda4",
   "metadata": {},
   "outputs": [
    {
     "name": "stdout",
     "output_type": "stream",
     "text": [
      "\n",
      " Method 1 (Boolean filter):\n",
      "         client_id invoice_date  tarif_type  counter_number  counter_code  \\\n",
      "0   train_Client_0   2014-03-24          11       1335667.0           203   \n",
      "1   train_Client_0   2013-03-29          11       1335667.0           203   \n",
      "2   train_Client_0   2015-03-23          11       1335667.0           203   \n",
      "3   train_Client_0   2015-07-13          11       1335667.0           207   \n",
      "4   train_Client_0   2016-11-17          11       1335667.0           207   \n",
      "5   train_Client_0   2017-07-17          11       1335667.0           207   \n",
      "6   train_Client_0   2018-12-07          11       1335667.0           207   \n",
      "7   train_Client_0   2019-03-19          11       1335667.0           207   \n",
      "8   train_Client_0   2011-07-22          11       1335667.0           203   \n",
      "9   train_Client_0   2011-11-22          11       1335667.0           203   \n",
      "10  train_Client_0   2008-11-25          11       1335667.0           203   \n",
      "11  train_Client_0   2012-07-23          11       1335667.0           203   \n",
      "12  train_Client_0   2012-11-29          11       1335667.0           203   \n",
      "13  train_Client_0   2013-07-22          11       1335667.0           203   \n",
      "14  train_Client_0   2014-07-18          11       1335667.0           203   \n",
      "15  train_Client_0   2014-11-24          11       1335667.0           203   \n",
      "16  train_Client_0   2015-11-18          11       1335667.0           207   \n",
      "17  train_Client_0   2012-03-27          11       1335667.0           203   \n",
      "18  train_Client_0   2011-03-30          11       1335667.0           203   \n",
      "19  train_Client_0   2013-02-12          11       1335667.0           203   \n",
      "20  train_Client_0   2010-07-22          11       1335667.0           203   \n",
      "21  train_Client_0   2010-11-24          11       1335667.0           203   \n",
      "22  train_Client_0   2005-10-17          11       1335667.0           203   \n",
      "23  train_Client_0   2006-02-24          11       1335667.0           203   \n",
      "24  train_Client_0   2006-06-23          11       1335667.0           203   \n",
      "25  train_Client_0   2006-10-18          11       1335667.0           203   \n",
      "26  train_Client_0   2007-06-27          11       1335667.0           203   \n",
      "27  train_Client_0   2007-10-25          11       1335667.0           203   \n",
      "28  train_Client_0   2007-02-26          11       1335667.0           203   \n",
      "29  train_Client_0   2008-07-28          11       1335667.0           203   \n",
      "30  train_Client_0   2009-01-04          11       1335667.0           203   \n",
      "31  train_Client_0   2009-07-27          11       1335667.0           203   \n",
      "32  train_Client_0   2009-11-24          11       1335667.0           203   \n",
      "33  train_Client_0   2010-03-29          11       1335667.0           203   \n",
      "34  train_Client_0   2008-01-04          11       1335667.0           203   \n",
      "\n",
      "    reading_remarque  counter_coefficient  consommation_level_1  \\\n",
      "0                8.0                    1                    82   \n",
      "1                6.0                    1                  1200   \n",
      "2                8.0                    1                   123   \n",
      "3                8.0                    1                   102   \n",
      "4                9.0                    1                   572   \n",
      "5                9.0                    1                   314   \n",
      "6                9.0                    1                   541   \n",
      "7                9.0                    1                   585   \n",
      "8                9.0                    1                  1200   \n",
      "9                6.0                    1                  1082   \n",
      "10               6.0                    1                   174   \n",
      "11               6.0                    1                   628   \n",
      "12               6.0                    1                   886   \n",
      "13               8.0                    1                   147   \n",
      "14               8.0                    1                    99   \n",
      "15               8.0                    1                   141   \n",
      "16               9.0                    1                   217   \n",
      "17               8.0                    1                   292   \n",
      "18               6.0                    1                   497   \n",
      "19               8.0                    1                    38   \n",
      "20               6.0                    1                   278   \n",
      "21               6.0                    1                   234   \n",
      "22               6.0                    1                   124   \n",
      "23               6.0                    1                   141   \n",
      "24               6.0                    1                   162   \n",
      "25               6.0                    1                   159   \n",
      "26               6.0                    1                   240   \n",
      "27               6.0                    1                   276   \n",
      "28               6.0                    1                   182   \n",
      "29               6.0                    1                   171   \n",
      "30               6.0                    1                   315   \n",
      "31               6.0                    1                   312   \n",
      "32               6.0                    1                   267   \n",
      "33               6.0                    1                   276   \n",
      "34               6.0                    1                   277   \n",
      "\n",
      "    consommation_level_2  consommation_level_3  consommation_level_4  \\\n",
      "0                      0                     0                     0   \n",
      "1                    184                     0                     0   \n",
      "2                      0                     0                     0   \n",
      "3                      0                     0                     0   \n",
      "4                      0                     0                     0   \n",
      "5                      0                     0                     0   \n",
      "6                      0                     0                     0   \n",
      "7                      0                     0                     0   \n",
      "8                    186                     0                     0   \n",
      "9                      0                     0                     0   \n",
      "10                     0                     0                     0   \n",
      "11                     0                     0                     0   \n",
      "12                     0                     0                     0   \n",
      "13                     0                     0                     0   \n",
      "14                     0                     0                     0   \n",
      "15                     0                     0                     0   \n",
      "16                     0                     0                     0   \n",
      "17                     0                     0                     0   \n",
      "18                     0                     0                     0   \n",
      "19                     0                     0                     0   \n",
      "20                     0                     0                     0   \n",
      "21                     0                     0                     0   \n",
      "22                     0                     0                     0   \n",
      "23                     0                     0                     0   \n",
      "24                     0                     0                     0   \n",
      "25                     0                     0                     0   \n",
      "26                     0                     0                     0   \n",
      "27                     0                     0                     0   \n",
      "28                     0                     0                     0   \n",
      "29                     0                     0                     0   \n",
      "30                     0                     0                     0   \n",
      "31                     0                     0                     0   \n",
      "32                     0                     0                     0   \n",
      "33                     0                     0                     0   \n",
      "34                     0                     0                     0   \n",
      "\n",
      "    old_index  new_index  months_number counter_type  counter_type_encoded  \n",
      "0       14302      14384              4         ELEC                     0  \n",
      "1       12294      13678              4         ELEC                     0  \n",
      "2       14624      14747              4         ELEC                     0  \n",
      "3       14747      14849              4         ELEC                     0  \n",
      "4       15066      15638             12         ELEC                     0  \n",
      "5       15638      15952              8         ELEC                     0  \n",
      "6       15952      16493             12         ELEC                     0  \n",
      "7       16493      17078              8         ELEC                     0  \n",
      "8        7770       9156              4         ELEC                     0  \n",
      "9        9156      10238              4         ELEC                     0  \n",
      "10       5417       5591              4         ELEC                     0  \n",
      "11      10780      11408              4         ELEC                     0  \n",
      "12      11408      12294              4         ELEC                     0  \n",
      "13      13983      14130              4         ELEC                     0  \n",
      "14      14384      14483              4         ELEC                     0  \n",
      "15      14483      14624              4         ELEC                     0  \n",
      "16      14849      15066              4         ELEC                     0  \n",
      "17      10488      10780              4         ELEC                     0  \n",
      "18       7273       7770              4         ELEC                     0  \n",
      "19      14264      14302              2         ELEC                     0  \n",
      "20       6761       7039              4         ELEC                     0  \n",
      "21       7039       7273              4         ELEC                     0  \n",
      "22       3685       3809              4         ELEC                     0  \n",
      "23       3809       3950              4         ELEC                     0  \n",
      "24       3950       4112              4         ELEC                     0  \n",
      "25       4112       4271              4         ELEC                     0  \n",
      "26       4453       4693              4         ELEC                     0  \n",
      "27       4693       4969              4         ELEC                     0  \n",
      "28       4271       4453              4         ELEC                     0  \n",
      "29       5246       5417              4         ELEC                     0  \n",
      "30       5591       5906              4         ELEC                     0  \n",
      "31       5906       6218              4         ELEC                     0  \n",
      "32       6218       6485              4         ELEC                     0  \n",
      "33       6485       6761              4         ELEC                     0  \n",
      "34       4969       5246              4         ELEC                     0  \n"
     ]
    }
   ],
   "source": [
    "print(\"\\n Method 1 (Boolean filter):\")\n",
    "client_data_1 = df[df['client_id'] == 'train_Client_0']\n",
    "print(client_data_1)"
   ]
  },
  {
   "cell_type": "code",
   "execution_count": 40,
   "id": "e31a8581-5ad8-4e1f-9d43-373298213912",
   "metadata": {},
   "outputs": [
    {
     "name": "stdout",
     "output_type": "stream",
     "text": [
      "\n",
      " Method 2 (Query):\n",
      "         client_id invoice_date  tarif_type  counter_number  counter_code  \\\n",
      "0   train_Client_0   2014-03-24          11       1335667.0           203   \n",
      "1   train_Client_0   2013-03-29          11       1335667.0           203   \n",
      "2   train_Client_0   2015-03-23          11       1335667.0           203   \n",
      "3   train_Client_0   2015-07-13          11       1335667.0           207   \n",
      "4   train_Client_0   2016-11-17          11       1335667.0           207   \n",
      "5   train_Client_0   2017-07-17          11       1335667.0           207   \n",
      "6   train_Client_0   2018-12-07          11       1335667.0           207   \n",
      "7   train_Client_0   2019-03-19          11       1335667.0           207   \n",
      "8   train_Client_0   2011-07-22          11       1335667.0           203   \n",
      "9   train_Client_0   2011-11-22          11       1335667.0           203   \n",
      "10  train_Client_0   2008-11-25          11       1335667.0           203   \n",
      "11  train_Client_0   2012-07-23          11       1335667.0           203   \n",
      "12  train_Client_0   2012-11-29          11       1335667.0           203   \n",
      "13  train_Client_0   2013-07-22          11       1335667.0           203   \n",
      "14  train_Client_0   2014-07-18          11       1335667.0           203   \n",
      "15  train_Client_0   2014-11-24          11       1335667.0           203   \n",
      "16  train_Client_0   2015-11-18          11       1335667.0           207   \n",
      "17  train_Client_0   2012-03-27          11       1335667.0           203   \n",
      "18  train_Client_0   2011-03-30          11       1335667.0           203   \n",
      "19  train_Client_0   2013-02-12          11       1335667.0           203   \n",
      "20  train_Client_0   2010-07-22          11       1335667.0           203   \n",
      "21  train_Client_0   2010-11-24          11       1335667.0           203   \n",
      "22  train_Client_0   2005-10-17          11       1335667.0           203   \n",
      "23  train_Client_0   2006-02-24          11       1335667.0           203   \n",
      "24  train_Client_0   2006-06-23          11       1335667.0           203   \n",
      "25  train_Client_0   2006-10-18          11       1335667.0           203   \n",
      "26  train_Client_0   2007-06-27          11       1335667.0           203   \n",
      "27  train_Client_0   2007-10-25          11       1335667.0           203   \n",
      "28  train_Client_0   2007-02-26          11       1335667.0           203   \n",
      "29  train_Client_0   2008-07-28          11       1335667.0           203   \n",
      "30  train_Client_0   2009-01-04          11       1335667.0           203   \n",
      "31  train_Client_0   2009-07-27          11       1335667.0           203   \n",
      "32  train_Client_0   2009-11-24          11       1335667.0           203   \n",
      "33  train_Client_0   2010-03-29          11       1335667.0           203   \n",
      "34  train_Client_0   2008-01-04          11       1335667.0           203   \n",
      "\n",
      "    reading_remarque  counter_coefficient  consommation_level_1  \\\n",
      "0                8.0                    1                    82   \n",
      "1                6.0                    1                  1200   \n",
      "2                8.0                    1                   123   \n",
      "3                8.0                    1                   102   \n",
      "4                9.0                    1                   572   \n",
      "5                9.0                    1                   314   \n",
      "6                9.0                    1                   541   \n",
      "7                9.0                    1                   585   \n",
      "8                9.0                    1                  1200   \n",
      "9                6.0                    1                  1082   \n",
      "10               6.0                    1                   174   \n",
      "11               6.0                    1                   628   \n",
      "12               6.0                    1                   886   \n",
      "13               8.0                    1                   147   \n",
      "14               8.0                    1                    99   \n",
      "15               8.0                    1                   141   \n",
      "16               9.0                    1                   217   \n",
      "17               8.0                    1                   292   \n",
      "18               6.0                    1                   497   \n",
      "19               8.0                    1                    38   \n",
      "20               6.0                    1                   278   \n",
      "21               6.0                    1                   234   \n",
      "22               6.0                    1                   124   \n",
      "23               6.0                    1                   141   \n",
      "24               6.0                    1                   162   \n",
      "25               6.0                    1                   159   \n",
      "26               6.0                    1                   240   \n",
      "27               6.0                    1                   276   \n",
      "28               6.0                    1                   182   \n",
      "29               6.0                    1                   171   \n",
      "30               6.0                    1                   315   \n",
      "31               6.0                    1                   312   \n",
      "32               6.0                    1                   267   \n",
      "33               6.0                    1                   276   \n",
      "34               6.0                    1                   277   \n",
      "\n",
      "    consommation_level_2  consommation_level_3  consommation_level_4  \\\n",
      "0                      0                     0                     0   \n",
      "1                    184                     0                     0   \n",
      "2                      0                     0                     0   \n",
      "3                      0                     0                     0   \n",
      "4                      0                     0                     0   \n",
      "5                      0                     0                     0   \n",
      "6                      0                     0                     0   \n",
      "7                      0                     0                     0   \n",
      "8                    186                     0                     0   \n",
      "9                      0                     0                     0   \n",
      "10                     0                     0                     0   \n",
      "11                     0                     0                     0   \n",
      "12                     0                     0                     0   \n",
      "13                     0                     0                     0   \n",
      "14                     0                     0                     0   \n",
      "15                     0                     0                     0   \n",
      "16                     0                     0                     0   \n",
      "17                     0                     0                     0   \n",
      "18                     0                     0                     0   \n",
      "19                     0                     0                     0   \n",
      "20                     0                     0                     0   \n",
      "21                     0                     0                     0   \n",
      "22                     0                     0                     0   \n",
      "23                     0                     0                     0   \n",
      "24                     0                     0                     0   \n",
      "25                     0                     0                     0   \n",
      "26                     0                     0                     0   \n",
      "27                     0                     0                     0   \n",
      "28                     0                     0                     0   \n",
      "29                     0                     0                     0   \n",
      "30                     0                     0                     0   \n",
      "31                     0                     0                     0   \n",
      "32                     0                     0                     0   \n",
      "33                     0                     0                     0   \n",
      "34                     0                     0                     0   \n",
      "\n",
      "    old_index  new_index  months_number counter_type  counter_type_encoded  \n",
      "0       14302      14384              4         ELEC                     0  \n",
      "1       12294      13678              4         ELEC                     0  \n",
      "2       14624      14747              4         ELEC                     0  \n",
      "3       14747      14849              4         ELEC                     0  \n",
      "4       15066      15638             12         ELEC                     0  \n",
      "5       15638      15952              8         ELEC                     0  \n",
      "6       15952      16493             12         ELEC                     0  \n",
      "7       16493      17078              8         ELEC                     0  \n",
      "8        7770       9156              4         ELEC                     0  \n",
      "9        9156      10238              4         ELEC                     0  \n",
      "10       5417       5591              4         ELEC                     0  \n",
      "11      10780      11408              4         ELEC                     0  \n",
      "12      11408      12294              4         ELEC                     0  \n",
      "13      13983      14130              4         ELEC                     0  \n",
      "14      14384      14483              4         ELEC                     0  \n",
      "15      14483      14624              4         ELEC                     0  \n",
      "16      14849      15066              4         ELEC                     0  \n",
      "17      10488      10780              4         ELEC                     0  \n",
      "18       7273       7770              4         ELEC                     0  \n",
      "19      14264      14302              2         ELEC                     0  \n",
      "20       6761       7039              4         ELEC                     0  \n",
      "21       7039       7273              4         ELEC                     0  \n",
      "22       3685       3809              4         ELEC                     0  \n",
      "23       3809       3950              4         ELEC                     0  \n",
      "24       3950       4112              4         ELEC                     0  \n",
      "25       4112       4271              4         ELEC                     0  \n",
      "26       4453       4693              4         ELEC                     0  \n",
      "27       4693       4969              4         ELEC                     0  \n",
      "28       4271       4453              4         ELEC                     0  \n",
      "29       5246       5417              4         ELEC                     0  \n",
      "30       5591       5906              4         ELEC                     0  \n",
      "31       5906       6218              4         ELEC                     0  \n",
      "32       6218       6485              4         ELEC                     0  \n",
      "33       6485       6761              4         ELEC                     0  \n",
      "34       4969       5246              4         ELEC                     0  \n"
     ]
    }
   ],
   "source": [
    "print(\"\\n Method 2 (Query):\")\n",
    "client_data_2 = df.query(\"client_id == 'train_Client_0'\")\n",
    "print(client_data_2)"
   ]
  },
  {
   "cell_type": "code",
   "execution_count": 36,
   "id": "c8379c58-2117-43e9-90ad-3cefb7d3b3c3",
   "metadata": {},
   "outputs": [
    {
     "name": "stdout",
     "output_type": "stream",
     "text": [
      "\n",
      " 'counter_type' encoded successfully.\n"
     ]
    }
   ],
   "source": [
    "if 'counter_type' in df.columns:\n",
    "    le = LabelEncoder()\n",
    "    df['counter_type_encoded'] = le.fit_transform(df['counter_type'])\n",
    "    print(\"\\n 'counter_type' encoded successfully.\")"
   ]
  },
  {
   "cell_type": "code",
   "execution_count": 37,
   "id": "d710ab47-3a3b-4138-9db2-f7391bbfe3f7",
   "metadata": {},
   "outputs": [
    {
     "name": "stdout",
     "output_type": "stream",
     "text": [
      "\n",
      " 'counter_statue' column dropped.\n"
     ]
    }
   ],
   "source": [
    "if 'counter_statue' in df.columns:\n",
    "    df.drop(columns=['counter_statue'], inplace=True)\n",
    "    print(\"\\n 'counter_statue' column dropped.\")"
   ]
  },
  {
   "cell_type": "code",
   "execution_count": 38,
   "id": "ff5e1182-4a57-47af-b4b7-2fe504cac10d",
   "metadata": {},
   "outputs": [
    {
     "name": "stdout",
     "output_type": "stream",
     "text": [
      "\n",
      " Preprocessing complete.\n"
     ]
    }
   ],
   "source": [
    "print(\"\\n Preprocessing complete.\")"
   ]
  },
  {
   "cell_type": "code",
   "execution_count": null,
   "id": "526a717a-1145-40e2-9ab1-55bb48fd7093",
   "metadata": {},
   "outputs": [],
   "source": []
  }
 ],
 "metadata": {
  "kernelspec": {
   "display_name": "Python [conda env:base] *",
   "language": "python",
   "name": "conda-base-py"
  },
  "language_info": {
   "codemirror_mode": {
    "name": "ipython",
    "version": 3
   },
   "file_extension": ".py",
   "mimetype": "text/x-python",
   "name": "python",
   "nbconvert_exporter": "python",
   "pygments_lexer": "ipython3",
   "version": "3.12.7"
  }
 },
 "nbformat": 4,
 "nbformat_minor": 5
}
