{
 "cells": [
  {
   "cell_type": "markdown",
   "id": "92176985-78f8-4eaf-8ea0-ad1df22ab678",
   "metadata": {},
   "source": [
    "# __NASA API Project__\n",
    "\n",
    "**Author:** Ismail Sulaimon Alamutu  \n",
    "**Date:** July 13, 2025  \n",
    "**Project Title:** NASA API Public Data Retrieval and Processing  \n",
    "\n",
    "---\n",
    "\n",
    "✅ I registered on the official NASA API portal: [https://api.nasa.gov](https://api.nasa.gov)  \n",
    "✅ I received and used my personal API key:  \n",
    "**`0DfxijUOeDUoiWtGLRMH24txGXmLct6XaW6Ov58g`**\n",
    "\n",
    "✅ This notebook demonstrates:\n",
    "- Using the APOD (Astronomy Picture of the Day) API\n",
    "- Using the NeoWs (Near Earth Object) API\n",
    "- Data extraction, cleaning, and export to CSV"
   ]
  },
  {
   "cell_type": "code",
   "execution_count": 12,
   "id": "705d09a8-2c7b-4133-bbe4-e248b83a1837",
   "metadata": {},
   "outputs": [],
   "source": [
    "import requests\n",
    "import pandas as pd\n",
    "from IPython.display import Image, display"
   ]
  },
  {
   "cell_type": "code",
   "execution_count": 13,
   "id": "c334f4ef-3352-43fa-a629-e28c05c0f79f",
   "metadata": {},
   "outputs": [],
   "source": [
    "API_KEY = \"0DfxijUOeDUoiWtGLRMH24txGXmLct6XaW6Ov58g\""
   ]
  },
  {
   "cell_type": "code",
   "execution_count": 14,
   "id": "e688bcee-4b47-4fd6-914a-57e6cbeff001",
   "metadata": {},
   "outputs": [
    {
     "name": "stdout",
     "output_type": "stream",
     "text": [
      " Astronomy Picture of the Day (APOD)\n",
      "\n",
      " Date: 2025-07-13\n",
      " Title: Planetary Nebula Mz3: The Ant Nebula\n",
      "\n",
      " Explanation: Why isn't this ant a big sphere?  Planetary nebula Mz3 is being cast off by a star similar to our Sun that is, surely, round.  Why then would the gas that is streaming away create an ant-shaped nebula that is distinctly not round?  Clues might include the high 1000-kilometer per second speed of the expelled gas, the light-year long length of the structure, and the magnetism of the star featured here at the nebula's center.  One possible answer is that Mz3 is hiding a second, dimmer star that orb...\n",
      "\n"
     ]
    },
    {
     "data": {
      "text/html": [
       "<img src=\"https://apod.nasa.gov/apod/image/2507/ant_hubble_1072.jpg\"/>"
      ],
      "text/plain": [
       "<IPython.core.display.Image object>"
      ]
     },
     "metadata": {},
     "output_type": "display_data"
    },
    {
     "name": "stdout",
     "output_type": "stream",
     "text": [
      "\n",
      " Fetching Asteroid Data from NeoWs API...\n"
     ]
    }
   ],
   "source": [
    "print(\" Astronomy Picture of the Day (APOD)\\n\")\n",
    "\n",
    "apod_url = f\"https://api.nasa.gov/planetary/apod?api_key={API_KEY}\"\n",
    "apod_response = requests.get(apod_url)\n",
    "apod_data = apod_response.json()\n",
    "\n",
    "print(f\" Date: {apod_data['date']}\")\n",
    "print(f\" Title: {apod_data['title']}\\n\")\n",
    "print(f\" Explanation: {apod_data['explanation'][:500]}...\\n\")\n",
    "\n",
    "display(Image(url=apod_data['url']))\n",
    "\n",
    "print(\"\\n Fetching Asteroid Data from NeoWs API...\")\n",
    "\n",
    "neo_url = f\"https://api.nasa.gov/neo/rest/v1/neo/browse?api_key={API_KEY}\"\n",
    "neo_response = requests.get(neo_url)\n",
    "neo_data = neo_response.json()\n",
    "asteroids = neo_data['near_earth_objects']"
   ]
  },
  {
   "cell_type": "code",
   "execution_count": 15,
   "id": "72f24b00-62e1-4908-8473-3dd0a5ebcad9",
   "metadata": {},
   "outputs": [
    {
     "name": "stdout",
     "output_type": "stream",
     "text": [
      " Preview of Cleaned Asteroid Data:\n"
     ]
    },
    {
     "data": {
      "text/html": [
       "<div>\n",
       "<style scoped>\n",
       "    .dataframe tbody tr th:only-of-type {\n",
       "        vertical-align: middle;\n",
       "    }\n",
       "\n",
       "    .dataframe tbody tr th {\n",
       "        vertical-align: top;\n",
       "    }\n",
       "\n",
       "    .dataframe thead th {\n",
       "        text-align: right;\n",
       "    }\n",
       "</style>\n",
       "<table border=\"1\" class=\"dataframe\">\n",
       "  <thead>\n",
       "    <tr style=\"text-align: right;\">\n",
       "      <th></th>\n",
       "      <th>Asteroid ID</th>\n",
       "      <th>Asteroid Name</th>\n",
       "      <th>Min Diameter (km)</th>\n",
       "      <th>Absolute Magnitude</th>\n",
       "      <th>Relative Velocity (km/s)</th>\n",
       "    </tr>\n",
       "  </thead>\n",
       "  <tbody>\n",
       "    <tr>\n",
       "      <th>0</th>\n",
       "      <td>2000433</td>\n",
       "      <td>433 Eros (A898 PA)</td>\n",
       "      <td>22.108281</td>\n",
       "      <td>10.40</td>\n",
       "      <td>5.5786191875</td>\n",
       "    </tr>\n",
       "    <tr>\n",
       "      <th>1</th>\n",
       "      <td>2000719</td>\n",
       "      <td>719 Albert (A911 TB)</td>\n",
       "      <td>2.025606</td>\n",
       "      <td>15.59</td>\n",
       "      <td>3.446029003</td>\n",
       "    </tr>\n",
       "    <tr>\n",
       "      <th>2</th>\n",
       "      <td>2000887</td>\n",
       "      <td>887 Alinda (A918 AA)</td>\n",
       "      <td>4.576727</td>\n",
       "      <td>13.82</td>\n",
       "      <td>7.0959736571</td>\n",
       "    </tr>\n",
       "    <tr>\n",
       "      <th>3</th>\n",
       "      <td>2001036</td>\n",
       "      <td>1036 Ganymed (A924 UB)</td>\n",
       "      <td>38.775283</td>\n",
       "      <td>9.18</td>\n",
       "      <td>6.3038664111</td>\n",
       "    </tr>\n",
       "    <tr>\n",
       "      <th>4</th>\n",
       "      <td>2001221</td>\n",
       "      <td>1221 Amor (1932 EA1)</td>\n",
       "      <td>0.892391</td>\n",
       "      <td>17.37</td>\n",
       "      <td>10.7701740589</td>\n",
       "    </tr>\n",
       "  </tbody>\n",
       "</table>\n",
       "</div>"
      ],
      "text/plain": [
       "  Asteroid ID           Asteroid Name  Min Diameter (km)  Absolute Magnitude  \\\n",
       "0     2000433      433 Eros (A898 PA)          22.108281               10.40   \n",
       "1     2000719    719 Albert (A911 TB)           2.025606               15.59   \n",
       "2     2000887    887 Alinda (A918 AA)           4.576727               13.82   \n",
       "3     2001036  1036 Ganymed (A924 UB)          38.775283                9.18   \n",
       "4     2001221    1221 Amor (1932 EA1)           0.892391               17.37   \n",
       "\n",
       "  Relative Velocity (km/s)  \n",
       "0             5.5786191875  \n",
       "1              3.446029003  \n",
       "2             7.0959736571  \n",
       "3             6.3038664111  \n",
       "4            10.7701740589  "
      ]
     },
     "execution_count": 15,
     "metadata": {},
     "output_type": "execute_result"
    }
   ],
   "source": [
    "asteroid_list = []\n",
    "\n",
    "for asteroid in asteroids:\n",
    "    approach_data = asteroid.get('close_approach_data', [])\n",
    "    velocity = (\n",
    "        approach_data[0]['relative_velocity']['kilometers_per_second']\n",
    "        if approach_data else None\n",
    "    )\n",
    "    \n",
    "    asteroid_list.append({\n",
    "        'Asteroid ID': asteroid['id'],\n",
    "        'Asteroid Name': asteroid['name'],\n",
    "        'Min Diameter (km)': asteroid['estimated_diameter']['kilometers']['estimated_diameter_min'],\n",
    "        'Absolute Magnitude': asteroid['absolute_magnitude_h'],\n",
    "        'Relative Velocity (km/s)': velocity\n",
    "    })\n",
    "\n",
    "df = pd.DataFrame(asteroid_list)\n",
    "print(\" Preview of Cleaned Asteroid Data:\")\n",
    "df.head()"
   ]
  },
  {
   "cell_type": "code",
   "execution_count": 16,
   "id": "6be01ac3-674b-4aea-a26f-5f229ecc3e99",
   "metadata": {},
   "outputs": [
    {
     "name": "stdout",
     "output_type": "stream",
     "text": [
      "\n",
      " Asteroid data has been saved to: nasa_asteroids.csv\n"
     ]
    }
   ],
   "source": [
    "csv_filename = \"nasa_asteroids.csv\"\n",
    "df.to_csv(csv_filename, index=False)\n",
    "print(f\"\\n Asteroid data has been saved to: {csv_filename}\")"
   ]
  },
  {
   "cell_type": "code",
   "execution_count": null,
   "id": "a86d5a0d-e602-47ca-8134-e72333b979f3",
   "metadata": {},
   "outputs": [],
   "source": []
  }
 ],
 "metadata": {
  "kernelspec": {
   "display_name": "Python [conda env:base] *",
   "language": "python",
   "name": "conda-base-py"
  },
  "language_info": {
   "codemirror_mode": {
    "name": "ipython",
    "version": 3
   },
   "file_extension": ".py",
   "mimetype": "text/x-python",
   "name": "python",
   "nbconvert_exporter": "python",
   "pygments_lexer": "ipython3",
   "version": "3.12.7"
  }
 },
 "nbformat": 4,
 "nbformat_minor": 5
}
